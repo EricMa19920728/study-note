{
 "cells": [
  {
   "cell_type": "markdown",
   "metadata": {},
   "source": [
    "# Python Package for json"
   ]
  },
  {
   "cell_type": "markdown",
   "metadata": {},
   "source": [
    "### [reference](https://codertw.com/%E7%A8%8B%E5%BC%8F%E8%AA%9E%E8%A8%80/356804/)"
   ]
  },
  {
   "cell_type": "markdown",
   "metadata": {},
   "source": [
    "### json.dumps()"
   ]
  },
  {
   "cell_type": "code",
   "execution_count": 1,
   "metadata": {},
   "outputs": [
    {
     "name": "stdout",
     "output_type": "stream",
     "text": [
      "{'a': '1111', 'b': '2222', 'c': '3333', 'd': '4444'}\n",
      "{\"a\": \"1111\", \"b\": \"2222\", \"c\": \"3333\", \"d\": \"4444\"}\n",
      "<class 'dict'>\n",
      "<class 'str'>\n"
     ]
    }
   ],
   "source": [
    "import json \n",
    "name_emb = {'a':'1111','b':'2222','c':'3333','d':'4444'}  \n",
    "jsObj = json.dumps(name_emb)   \n",
    "print(name_emb) \n",
    "print(jsObj) \n",
    "print(type(name_emb)) \n",
    "print(type(jsObj))"
   ]
  },
  {
   "cell_type": "code",
   "execution_count": 7,
   "metadata": {},
   "outputs": [
    {
     "ename": "TypeError",
     "evalue": "write() argument must be str, not dict",
     "output_type": "error",
     "traceback": [
      "\u001b[0;31m---------------------------------------------------------------------------\u001b[0m",
      "\u001b[0;31mTypeError\u001b[0m                                 Traceback (most recent call last)",
      "\u001b[0;32m<ipython-input-7-f8a4eff3f148>\u001b[0m in \u001b[0;36m<module>\u001b[0;34m\u001b[0m\n\u001b[1;32m      4\u001b[0m \u001b[0;31m# jsObj = json.dumps(name_emb)\u001b[0m\u001b[0;34m\u001b[0m\u001b[0;34m\u001b[0m\u001b[0;34m\u001b[0m\u001b[0m\n\u001b[1;32m      5\u001b[0m \u001b[0;32mwith\u001b[0m \u001b[0mopen\u001b[0m\u001b[0;34m(\u001b[0m\u001b[0memb_filename\u001b[0m\u001b[0;34m,\u001b[0m \u001b[0;34m\"w\"\u001b[0m\u001b[0;34m)\u001b[0m \u001b[0;32mas\u001b[0m \u001b[0mf\u001b[0m\u001b[0;34m:\u001b[0m\u001b[0;34m\u001b[0m\u001b[0;34m\u001b[0m\u001b[0m\n\u001b[0;32m----> 6\u001b[0;31m     \u001b[0mf\u001b[0m\u001b[0;34m.\u001b[0m\u001b[0mwrite\u001b[0m\u001b[0;34m(\u001b[0m\u001b[0mname_emb\u001b[0m\u001b[0;34m)\u001b[0m\u001b[0;34m\u001b[0m\u001b[0;34m\u001b[0m\u001b[0m\n\u001b[0m\u001b[1;32m      7\u001b[0m     \u001b[0mf\u001b[0m\u001b[0;34m.\u001b[0m\u001b[0mclose\u001b[0m\u001b[0;34m(\u001b[0m\u001b[0;34m)\u001b[0m\u001b[0;34m\u001b[0m\u001b[0;34m\u001b[0m\u001b[0m\n",
      "\u001b[0;31mTypeError\u001b[0m: write() argument must be str, not dict"
     ]
    }
   ],
   "source": [
    "import json    \n",
    "name_emb = {'a':'1111','b':'2222','c':'3333','d':'4444'}  \n",
    "emb_filename = ('/home/moxa/Study-Note/Python/dumps.json')  \n",
    "# jsObj = json.dumps(name_emb)   \n",
    "with open(emb_filename, \"w\") as f:  \n",
    "    f.write(name_emb)  \n",
    "    f.close()  "
   ]
  },
  {
   "cell_type": "code",
   "execution_count": 8,
   "metadata": {},
   "outputs": [],
   "source": [
    "import json    \n",
    "name_emb = {'a':'1111','b':'2222','c':'3333','d':'4444'}  \n",
    "emb_filename = ('/home/moxa/Study-Note/Python/dumps.json')  \n",
    "jsObj = json.dumps(name_emb)   \n",
    "with open(emb_filename, \"w\") as f:  \n",
    "    f.write(jsObj)  \n",
    "    f.close()  "
   ]
  },
  {
   "cell_type": "markdown",
   "metadata": {},
   "source": [
    "### json.loads()"
   ]
  },
  {
   "cell_type": "code",
   "execution_count": 6,
   "metadata": {},
   "outputs": [
    {
     "name": "stdout",
     "output_type": "stream",
     "text": [
      "{'a': '1111', 'b': '2222', 'c': '3333', 'd': '4444'}\n",
      "{\"a\": \"1111\", \"b\": \"2222\", \"c\": \"3333\", \"d\": \"4444\"}\n",
      "{'a': '1111', 'b': '2222', 'c': '3333', 'd': '4444'}\n",
      "<class 'dict'>\n",
      "<class 'str'>\n",
      "<class 'dict'>\n"
     ]
    }
   ],
   "source": [
    "import json   \n",
    "name_emb = {'a':'1111','b':'2222','c':'3333','d':'4444'}  \n",
    "jsDumps = json.dumps(name_emb)   \n",
    "jsLoads = json.loads(jsDumps)  \n",
    "print(name_emb) \n",
    "print(jsDumps) \n",
    "print(jsLoads) \n",
    "print(type(name_emb)) \n",
    "print(type(jsDumps)) \n",
    "print(type(jsLoads))    "
   ]
  },
  {
   "cell_type": "markdown",
   "metadata": {},
   "source": [
    "### json.dump()"
   ]
  },
  {
   "cell_type": "code",
   "execution_count": 12,
   "metadata": {},
   "outputs": [],
   "source": [
    "import json  \n",
    "name_emb = {'a':'1111','b':'2222','c':'3333','d':'4444'}  \n",
    "emb_filename = ('/home/moxa/Study-Note/Python/dump.json')  \n",
    "# solution 1 \n",
    "jsObj = json.dumps(name_emb)   \n",
    "with open(emb_filename, \"w\") as f:  \n",
    "    f.write(jsObj)  \n",
    "    f.close()  \n",
    "# solution 2   \n",
    "json.dump(name_emb, open(emb_filename, \"w\")) "
   ]
  },
  {
   "cell_type": "markdown",
   "metadata": {},
   "source": [
    "### json.load()"
   ]
  },
  {
   "cell_type": "code",
   "execution_count": 13,
   "metadata": {},
   "outputs": [
    {
     "name": "stdout",
     "output_type": "stream",
     "text": [
      "{'a': '1111', 'b': '2222', 'c': '3333', 'd': '4444'}\n",
      "<class 'dict'>\n",
      "key: a  value: 1111\n",
      "key: b  value: 2222\n",
      "key: c  value: 3333\n",
      "key: d  value: 4444\n"
     ]
    }
   ],
   "source": [
    "import json  \n",
    "emb_filename = ('/home/moxa/Study-Note/Python/dump.json')  \n",
    "jsObj = json.load(open(emb_filename))   \n",
    "print(jsObj) \n",
    "print(type(jsObj)) \n",
    "for key in jsObj.keys(): \n",
    "    print('key: %s  value: %s' % (key,jsObj.get(key))) "
   ]
  },
  {
   "cell_type": "code",
   "execution_count": null,
   "metadata": {},
   "outputs": [],
   "source": []
  }
 ],
 "metadata": {
  "kernelspec": {
   "display_name": "Python 3.8.2 64-bit",
   "language": "python",
   "name": "python38264bit7bf8d82294b540519c600497893c0b79"
  },
  "language_info": {
   "codemirror_mode": {
    "name": "ipython",
    "version": 3
   },
   "file_extension": ".py",
   "mimetype": "text/x-python",
   "name": "python",
   "nbconvert_exporter": "python",
   "pygments_lexer": "ipython3",
   "version": "3.8.5"
  }
 },
 "nbformat": 4,
 "nbformat_minor": 4
}
